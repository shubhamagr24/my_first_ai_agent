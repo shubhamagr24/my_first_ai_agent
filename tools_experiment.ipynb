{
 "cells": [
  {
   "cell_type": "code",
   "execution_count": 99,
   "id": "c06c61b8",
   "metadata": {},
   "outputs": [
    {
     "data": {
      "text/plain": [
       "True"
      ]
     },
     "execution_count": 99,
     "metadata": {},
     "output_type": "execute_result"
    }
   ],
   "source": [
    "#basic imports\n",
    "from langchain_core.tools import tool,Tool\n",
    "from langchain_core.prompts import PromptTemplate\n",
    "from langchain_core.output_parsers import StrOutputParser\n",
    "from dotenv import load_dotenv\n",
    "import openai\n",
    "\n",
    "import os\n",
    "\n",
    "# special imports\n",
    "from langchain_community.tools import DuckDuckGoSearchRun ###simple search tool\n",
    "from langchain_community.tools import DuckDuckGoSearchResults ### returns snipeet,title,link\n",
    "from langchain_community.utilities import GoogleSerperAPIWrapper\n",
    "from bs4 import BeautifulSoup\n",
    "from PyPDF2 import PdfReader\n",
    "from io import BytesIO\n",
    "import requests\n",
    "from langchain_experimental.utilities import PythonREPL\n",
    "\n",
    "\n",
    "load_dotenv() "
   ]
  },
  {
   "cell_type": "code",
   "execution_count": null,
   "id": "781b4ced",
   "metadata": {},
   "outputs": [],
   "source": [
    "# --- Basic operations --- #\n",
    "\n",
    "@tool\n",
    "def multiply(a: float, b: float) -> float:\n",
    "    \"\"\"Multiplies two numbers.\n",
    "    Args:\n",
    "        a (float): the first number\n",
    "        b (float): the second number\n",
    "    \"\"\"\n",
    "    return a * b\n",
    "\n",
    "\n",
    "@tool\n",
    "def add(a: float, b: float) -> float:\n",
    "    \"\"\"Adds two numbers.\n",
    "    Args:\n",
    "        a (float): the first number\n",
    "        b (float): the second number\n",
    "    \"\"\"\n",
    "    return a + b\n",
    "\n",
    "\n",
    "@tool\n",
    "def subtract(a: float, b: float) -> int:\n",
    "    \"\"\"Subtracts two numbers.\n",
    "    Args:\n",
    "        a (float): the first number\n",
    "        b (float): the second number\n",
    "    \"\"\"\n",
    "    return a - b\n",
    "\n",
    "\n",
    "@tool\n",
    "def divide(a: float, b: float) -> float:\n",
    "    \"\"\"Divides two numbers.\n",
    "    Args:\n",
    "        a (float): the first float number\n",
    "        b (float): the second float number\n",
    "    \"\"\"\n",
    "    if b == 0:\n",
    "        raise ValueError(\"Cannot divided by zero.\")\n",
    "    return a / b\n",
    "\n",
    "\n",
    "@tool\n",
    "def modulus(a: int, b: int) -> int:\n",
    "    \"\"\"Get the modulus of two numbers.\n",
    "    Args:\n",
    "        a (int): the first number\n",
    "        b (int): the second number\n",
    "    \"\"\"\n",
    "    return a % b\n",
    "\n",
    "\n",
    "@tool\n",
    "def power(a: float, b: float) -> float:\n",
    "    \"\"\"Get the power of two numbers.\n",
    "    Args:\n",
    "        a (float): the first number\n",
    "        b (float): the second number\n",
    "    \"\"\"\n",
    "    return a**b\n",
    "\n",
    "\n",
    "@tool\n",
    "def largest(a:list[float]) -> float;\n",
    "    \"\"\"Get the largest number in a list.\n",
    "    Args:\n",
    "        a (list[float]): the list of numbers\n",
    "    \"\"\"\n",
    "    return max(a)\n",
    "\n",
    "@tool\n",
    "def smallest(a:list[float]) -> float;\n",
    "    \"\"\"Get the smallest number in a list.\n",
    "    Args:\n",
    "        a (list[float]): the list of numbers\n",
    "    \"\"\"\n",
    "    return min(a)\n",
    "@tool\n",
    "def average(a:list[float]) -> float;\n",
    "    \"\"\"Get the average of a list of numbers.\n",
    "    Args:\n",
    "        a (list[float]): the list of numbers\n",
    "    \"\"\"\n",
    "    return sum(a)/len(a)\n",
    "\n",
    "\n"
   ]
  },
  {
   "cell_type": "code",
   "execution_count": 2,
   "id": "a71cd97e",
   "metadata": {},
   "outputs": [],
   "source": [
    "# --- Advanced operations --- #\n",
    "\n",
    "# duckduckgo search tool\n",
    "simple_search = DuckDuckGoSearchRun()\n",
    "\n",
    "\n",
    "# duckduckgo search tool returns snipeet,title,link\n",
    "search = DuckDuckGoSearchResults(output_format=\"list\")\n",
    "\n",
    "\n",
    "# google search tool \n",
    "search = GoogleSerperAPIWrapper()\n",
    "# Need to explicitly convert search function to a tool\n",
    "google_search = Tool(\n",
    "    name=\"Google Search\",\n",
    "    func=lambda q: str(search.results(q)),  # returns list of dicts with 'link'\n",
    "    description=\"Search Google and get structured results including links.\",\n",
    ")\n",
    "\n",
    "\n",
    "#python interpreter\n",
    "python_repl = PythonREPL()\n",
    "repl_tool = Tool(\n",
    "    name=\"python_repl\",\n",
    "    description=\"A Python shell. Use this to execute python commands. Input should be a valid python command. If you want to see the output of a value, you should print it out with `print(...)`.\",\n",
    "    func=python_repl.run,\n",
    ")"
   ]
  },
  {
   "cell_type": "code",
   "execution_count": 3,
   "id": "e00bab60",
   "metadata": {},
   "outputs": [
    {
     "name": "stderr",
     "output_type": "stream",
     "text": [
      "Python REPL can execute arbitrary code. Use with caution.\n"
     ]
    },
    {
     "data": {
      "text/plain": [
       "'2\\n'"
      ]
     },
     "execution_count": 3,
     "metadata": {},
     "output_type": "execute_result"
    }
   ],
   "source": [
    "repl_tool.invoke(\"print(1+1)\")"
   ]
  },
  {
   "cell_type": "code",
   "execution_count": null,
   "id": "1be3b763",
   "metadata": {},
   "outputs": [],
   "source": [
    "\n",
    "from bs4 import BeautifulSoup\n",
    "from PyPDF2 import PdfReader\n",
    "from io import BytesIO\n",
    "import requests\n",
    "from playwright.async_api import async_playwright\n",
    "import nest_asyncio\n",
    "import asyncio\n",
    "from langchain.tools import Tool\n",
    "\n",
    "nest_asyncio.apply()\n",
    "\n",
    "async def get_webpage_content_async(url: str) -> str:\n",
    "    try:\n",
    "        # Check for PDF\n",
    "        head = requests.head(url, timeout=5)\n",
    "        if url.lower().endswith(\".pdf\") or \"application/pdf\" in head.headers.get(\"Content-Type\", \"\").lower():\n",
    "            response = requests.get(url, timeout=10)\n",
    "            response.raise_for_status()\n",
    "            pdf = PdfReader(BytesIO(response.content))\n",
    "            text = \"\"\n",
    "            for page in pdf.pages:\n",
    "                page_text = page.extract_text()\n",
    "                if page_text:\n",
    "                    text += page_text + \"\\n\"\n",
    "            return text[:20000] or \"No readable text extracted from PDF.\"\n",
    "\n",
    "        # Playwright browser with stealth settings\n",
    "        async with async_playwright() as p:\n",
    "            browser = await p.chromium.launch(headless=False)  # Headful helps bypass Cloudflare\n",
    "            context = await browser.new_context(\n",
    "                user_agent=\"Mozilla/5.0 (Windows NT 10.0; Win64; x64) AppleWebKit/537.36 (KHTML, like Gecko) Chrome/120 Safari/537.36\",\n",
    "                viewport={'width': 1280, 'height': 800},\n",
    "                java_script_enabled=True\n",
    "            )\n",
    "            page = await context.new_page()\n",
    "            await page.goto(url, wait_until=\"networkidle\", timeout=30000)\n",
    "            await page.wait_for_timeout(5000)  # wait for Cloudflare challenge\n",
    "\n",
    "            content = await page.content()\n",
    "            await browser.close()\n",
    "\n",
    "        soup = BeautifulSoup(content, \"html.parser\")\n",
    "        text = soup.get_text(separator=\"\\n\", strip=True)\n",
    "        return text[:20000] or \"No readable text extracted from webpage.\"\n",
    "\n",
    "    except Exception as e:\n",
    "        return f\"Error fetching content: {e}\"\n",
    "\n",
    "# Wrapper for Jupyter\n",
    "def get_webpage_content_sync(url: str) -> str:\n",
    "    loop = asyncio.get_event_loop()\n",
    "    return loop.run_until_complete(get_webpage_content_async(url))\n",
    "\n",
    "# LangChain tool\n",
    "get_webpage_content = Tool(\n",
    "    name=\"get_webpage_content\",\n",
    "    func=get_webpage_content_sync,\n",
    "    description=\"Fetch readable text content from webpages or PDFs, handling anti-bot protections.\"\n",
    ")\n"
   ]
  },
  {
   "cell_type": "code",
   "execution_count": null,
   "id": "75b1f3af",
   "metadata": {},
   "outputs": [
    {
     "name": "stderr",
     "output_type": "stream",
     "text": [
      "/opt/anaconda3/envs/agentic/lib/python3.10/site-packages/bs4/__init__.py:904: RuntimeWarning: coroutine 'get_webpage_content_async' was never awaited\n",
      "  self._linkage_fixer(parent)\n",
      "RuntimeWarning: Enable tracemalloc to get the object allocation traceback\n"
     ]
    },
    {
     "data": {
      "text/plain": [
       "'Astronomers Watch a Black Hole Wake Up in Real Time - Universe Today\\nUniverse Today\\nHome\\nVideos\\nPodcast\\nNewsletter\\nJoin the Club\\nRSS Feed\\nAstronomers Watch a Black Hole Wake Up in Real Time\\nBy Carolyn Collins Petersen\\nApril 19, 2025\\nA giant black hole awakens with brilliant bursts of optical and x-ray light. Courtesy ESA.\\nYou never know exactly when a central supermassive black hole is going to power up and start gobbling matter. Contrary to the popular view that these monsters are constantly devouring nearby stars and gas clouds, it turns out they spend part of their existence dormant and inactive. New observations from the European Space Agency\\'s XMM-Newton spacecraft opened a window on the \"turn on event\" for one of these monsters in a distant galaxy.\\nThe supermassive black hole at the heart of the galaxy SDSS1335+0728 has been sleeping quietly for decades. Then, it suddenly lit up in 2019, and astronomers caught the outbursts in both optical and x-ray light. The galaxy, which lies some 300 million light-years away, was experiencing a wake-up call from its central black hole. Astronomers named this newly active galactic nucleus \"Ansky\".\\n“When we first saw Ansky light up in optical images, we triggered follow-up observations using NASA’s Swift X-ray space telescope, and we checked archived data from the eROSITA X-ray telescope, but at the time we didn’t see any evidence of X-ray emissions,” said European Southern Observatory researcher Paula Sánchez Sáez. She and her team were the first to explore the activity at the black hole. Another team led by Lorena Hernández-García, a researcher at Valparaiso University, Chile, followed up on their work in 2024 by detecting X-ray bursts from the same region. “This rare event provides an opportunity for astronomers to observe a black hole’s behavior in real time, using X-ray space telescopes XMM-Newton and NASA’s NICER, Chandra, and Swift. This phenomenon is known as a quasiperiodic eruption, or QPE. QPEs are short-lived flaring events. And this is the first time we have observed such an event in a black hole that seems to be waking up,” explained Lorena.\\nESA\\'s XMM-Newton satellite detected light from Ansky\\'s \"wake-up\" routine.\\nThe Possible Sequence of Events at Ansky\\nWhat happened to light up Ansky in a QPE? Think about what happens as a black hole feeds. We know that the extreme gravitational pull of the black hole draws matter in, usually via a spinning accretion disk. It could be a star that wanders too close, for example. The strong gravitational influence of the black hole shreds the star, scattering its material throughout the disk. These are called \"tidal disruption events\" (TDEs).\\nThat sounds great until you realize Ansky doesn\\'t seem to have destroyed a star. There\\'s no observational evidence. However, it has been experiencing recurring bursts of activity, which implies more than one event is occurring.  It\\'s possible that a QPE could be caused by a star or some other object interacting with the accretion disk but not getting sucked in and creating a different kind of TDE.\\nResearchers went back to the drawing board to consider other possibilities. It could be that the accretion disk isn\\'t formed by a star, but is a result of gas being drawn into the black hole\\'s gravity well. The x-ray flares that the astronomers saw at Ansky suggest the disk could be experiencing energetic shocks created by the presence of something traveling through the it but not getting disrupted. Something on a headlong rush through an accretion disk would produce multiple events -- sort of like a boat cutting through water. Those events would create the x-ray flares. “The bursts of x-rays from Ansky are ten times longer and ten times more luminous than what we see from a typical QPE,” says Joheen Chakraborty, a team member and PhD student at the Massachusetts Institute of Technology.\\nTo get the x-rays, you need highly energetic events in the disk. “Each of these eruptions is releasing a hundred times more energy than we have seen elsewhere. Ansky’s eruptions also show the longest cadence ever observed, of about 4.5 days. This pushes our models to their limits and challenges our existing ideas about how these X-ray flashes are being generated.”\\nSome Caveats\\nIn a paper released in Nature (see below), the team suggests continued follow-up observations of this and other similar events at supermassive black holes. That\\'s because the recurring x-ray flares at Ansky, which occur about every 25 days, aren\\'t well understood. They might be happening because the accretion disk has an eccentric inner section, and the whole thing is precessing. If that\\'s the case, an intruding object is passing through two different surfaces in the disk.\\nThe best way to tell is to monitor future QPEs. That makes Ansky a perfect \"real-time\" test subject for various models of QPEs and helps astronomers create better models of these types of events. In addition, they may provide fodder for future gravitational wave studies.\\n“For QPEs, we’re still at the point where we have more models than data, and we need more observations to understand what\\'s happening,” says ESA Research Fellow and X-ray astronomer, Erwan Quintin.\\n“We thought that QPEs were the result of small celestial objects being captured by much larger ones and spiralling down towards them. Ansky’s eruptions seem to be telling us a different story. These repetitive bursts are also likely associated with gravitational waves that ESA’s future mission LISA [gravitational wave detector] might be able to catch. It’s crucial to have these x-ray observations that will complement the gravitational wave data and help us solve the puzzling behaviour of massive black holes.”\\nESA\\'s LISA space-based interferometer array will be the first space-based laboratory to detect gravitational waves, particularly from AGNs such as Ansky. Courtesy ESA.\\nFor More Information\\nFrom Boring to Bursting: a Giant Black Hole Awakens\\nDiscovery of Extreme Quasi-period Eruptions in a Newly Accreting Massive Black Hole\\nArXiv Version of Nature Paper\\nCarolyn Collins Petersen\\nCarolyn Collins Petersen is a long-time science writer and former astronomer researcher. She writes about astronomy and space exploration and has written 8 books, countless articles, more than 60 socumentaries for planetarium star theaters, and exhibits for Griffith Observatory, NASA/JPL, the California Academy of Sciences, and the Shanghai Astronomical Museum. She is CEO of\\nLoch Ness Productions\\n.\\nYou can email Carolyn here\\n.\\nPrevious Article\\n← Mars Has the Remnants of a Lopsided Magnetic Field\\nNext Article\\nThe Evidence for Ancient Supernovae Is Buried Underground →\\n© 2025 Universe Today\\nA space and astronomy news site\\nSupport our ad-free content\\nBecome a Patron\\nContact Us\\nPrivacy Policy\\nThis work is licensed under a\\nCreative Commons Attribution 4.0 International License\\n.'"
      ]
     },
     "execution_count": 49,
     "metadata": {},
     "output_type": "execute_result"
    }
   ],
   "source": [
    "get_webpage_content.invoke(\"https://www.universetoday.com/articles/astronomers-watch-a-black-hole-wake-up-in-real-time\")"
   ]
  },
  {
   "cell_type": "code",
   "execution_count": 51,
   "id": "2f7a3b77",
   "metadata": {},
   "outputs": [
    {
     "data": {
      "text/plain": [
       "'“Dragons are Tricksy”: The Uncanny Dragons of Children’s Literature |\\nMenu\\nSkip to content\\nHome\\nJournal\\nCurrent Issue\\nArchive\\nFor Authors\\nEditorial Policies\\nSubmission Guidelines\\nEditors and Contact Info\\nAdvisory Board\\nPublisher\\nArchive\\n2014\\nFafnir 1/2014\\nFafnir 2/2014\\nFafnir 3/2014\\nFafnir 4/2014\\n2015\\nFafnir 1/2015\\nFafnir 2/2015\\nFafnir 3/2015\\nFafnir 4/2015\\n2016\\nFafnir 1/2016\\nFafnir 2/2016\\nFafnir 3/2016\\nFafnir 4/2016\\n2017\\nFafnir 1/2017\\nFafnir 2/2017\\nFafnir 3–4/2017\\n2018\\nFafnir 1/2018\\nFafnir 2/2018\\n2019\\nFafnir 1/2019\\nFafnir 2/2019\\n2020\\nFafnir 1/2020\\nFafnir 2/2020\\n2021\\nFafnir 1/2021\\nFafnir 2/2021\\n2022\\nFafnir 1/2022\\nFafnir 2/2022\\n2023\\nFafnir 1/2023\\nFafnir 2/2023\\nFafnir – Nordic Journal of Science Fiction and Fantasy Research\\n, Volume 1, Issue 2, pages 41–54.\\nEmily Midkiff\\n“Dragons are Tricksy”:\\nThe Uncanny Dragons of Children’s Literature\\nAbstract\\n: As early as the sixties, scholars of children’s literature have noted a trend to soften and satirize the dragon for children. This disconnect with traditional dragons has been bemoaned as ruining the mythic and archetypal power of dragons. Yet there may be more potent dragons lurking in children’s literature than readily apparent, due to one significant aspect of traditional Western dragon-lore: the eerie feeling or mood cast by a dragon. The original dragons of Germanic lore, from which many children’s literature dragons descended, were not just large scary beasts, but they also created a distinctly unsettling atmosphere in their stories. Modern tamed and human-like children’s literature dragons borrow certain uncanny qualities from the older generations of dragon-lore to become potent, if not always life-threatening characters. In specific, two traits borrowed from the original lore inspire uncanny doubling with their human counterparts: the dragons’ intensely possessive gaze and their clever, manipulative speech. This article analyzes these Freudian inheritances to argue that children’s literature dragons have not been entirely softened and satirized; the potential for uncanny fear embodied by the human-like behaviors of legendary Western dragons lingers in many modern children’s literature dragons. This potential reveals that dragons are still strong characters and can and should be analyzed productively through a Freudian uncanny lens.\\nKeywords\\n: Dragon, uncanny, Freud, children’s literature\\nBiography\\n: Emily Midkiff (MA, English and Children’s Literature) is teaching and working on her PhD at the University of Minnesota.\\nJ.R.R. Tolkien once declared that “the dragon in legend is a potent creation of men’s imagination, richer in significance than his barrow is in gold” (“The Monsters” 16). Dragons in mythology have come to be recognized for their value as representations of ancient cultures or as worldwide archetypes. Anthropologists have found and studied dragons in nearly all surviving mythologies; medievalists have examined them in manuscripts and bestiaries. In modern literature, dragons have flourished in their newer realm of fantasy and children’s literature as one of its most pervasive mythic animals.\\nYet within children’s literature, scholars have noted a trend beginning even before the dragon’s mass popularity in fantasy to soften and satirize the dragon for children. While this type of friendly dragon has become a well known resident of children’s books, this article argues that children’s literature dragons have been not been entirely softened and satirized; the potential for uncanny fear embodied by the human-like behaviors of legendary Western dragons lingers in many modern children’s literature dragons.\\nFluffy Dragons\\nIn comparison to ancient dragon lore, modern dragons for children inspire less terror and more laughter, beginning most noticeably with Kenneth Grahame’s “The Reluctant Dragon” in 1898. Ruth Stein in 1968 and Margaret Blount in 1974 both comment with distaste on the increasingly cuddly, “fluffy” nature of dragons in children’s literature. In a short article for\\nElementary Education\\n, Stein expresses hope that Tolkien’s Smaug would improve the literary dragon’s evolution and encourage properly scary dragons. While this has since proved true in part, the bemoaned fluffy dragons remain prevalent alongside Tolkien’s menacing breed. Nonetheless Blount, in a later book, stipulates that as long as dragons retain their capability to inspire awe they could be less than terrifying and still remain “real dragons” (129). She points out several stories that fail to keep the awe of dragons alive, and most of the failures revolve around dragons that generally behave like humans and sometimes retain only one dragon characteristic, usually fire-breathing, in order to inspire conflict. Jon Stott, in 1990, shows less concern over what a “real” dragon is and even praises the proliferation of fluffy dragons, including Grahame’s dragon, as parodies of the outdated cultural codes represented by traditional dragon lore (222-223). Hope Shastri’s 1992 dissertation on the picture book dragon gives concrete results to support the observations of scholars like Stein, Blount, and Stott. Shastri performed a content analysis of 151 picture books produced between 1950 and 1992 in order to ascertain whether or not dragons have preserved their range of mythic capabilities in that form of children’s literature. She divides picture book dragons into three categories: Household (the type that Blount accused of failure), Wildwood (untamed, living in the wild and closer to Tolkien’s sort), and Imaginary (clearly pretend or a dream on the part of a child) and identifies thirty traditional dragon traits such as breathing fire, consuming humans, guarding treasure, talking, flying, and being vanquished. After applying these categories and traits to all 151 books, Shastri concludes that picture book dragons have effectively lost the majority of their original mythic qualities, save fire-breathing, and have largely become tame and meek—especially the Household dragons, out of which she finds 86% to be denatured as opposed to 34% of Wildwood and 42% of Imaginary dragons (77). Tina L. Hanlon generally agrees with Shastri’s findings in her own examination of 100 picture books in 2003, but she also notes with some hope the resurgence of strong dragons in retold fairy tales. In total, the work of these scholars over the past two decades indicates that dragons in children’s books are increasingly humorous and less and less fearsome, just as Stein feared when she wrote over forty years ago.\\nDragons and the Uncanny\\nThere may be more potent dragons lurking in children’s literature than these observations and studies indicate, due to one significant aspect of Western dragon-lore: the eerie feeling or mood cast by a dragon. The traits listed by Shastri focus on characteristics of the dragons themselves but do not include the emotional environment created by the dragon within the literature or with the audience. Stott acknowledges the fear inspired by traditional dragons due to their size and fierce temper, but his analysis addresses only the physical threat of the dragons and implies that this fear is entirely lost when parodied (224). Blount comes close to recognizing this deeper psychological effect of dragons when she writes that a quality children’s literature dragon should still inspire awe. Awe and fear, yes, but the original dragons of Germanic lore from which children’s literature dragons descended were not just large scary beasts, but they also created a distinctly unsettling atmosphere in their stories.\\nThis uncanny quality of these ancestral dragons derives from their unnatural similarity to the heroes who defeat them; the dragons are doubles for humanity. Joyce Tally Lionarons and Jonathan Evans, scholars of medieval dragon-lore, assert that dragons such as the famous Fáfnir were terrifying and effective characters in epics because they vied with people for the right to be “human.” According to the classic definition by Freud, the uncanny double occurs when “one [person] possesses knowledge, feelings and experience in common with the other” and is also sometimes “marked by the fact that the subject identifies himself with someone else, so that he is in doubt as to which his self is, or substitutes the extraneous self for his own” (234).\\n1\\nFreudian psychoanalysis has been applied to dragons in fairy tales by such scholars as Bruno Bettelheim, but he posits dragons as the dangerous, untamed id or the projection of oedipal issues by the child hero (76). Bettelheim’s analysis also locates dragons as an internal hero conflict, which in many ways complements to my argument here, but I focus on Freud’s concept of the uncanny rather than his superego-ego-id construct to explain the way that modern dragons can still unsettle readers even when the plot does not follow the traditional human hero questing to slay a physically fearsome dragon. Modern tamed and human-like children’s literature dragons borrow certain uncanny qualities from the older generations of dragon-lore to become potent, if not life or ego-threatening characters. In specific, two traits borrowed from the original lore inspire the uncanny doubling with humans: the dragons’ intensely possessive gaze and their clever, manipulative speech.\\nThe remainder of this article will further explain how the dragon’s potent powers of vision and language operate as uncanny traits, how vision and language are recognized by scholars of Germanic dragon-lore, and how these traits were translated into children’s literature through such landmark texts as Grahame’s\\nThe Reluctant Dragon\\nand J.R.R. Tolkien’s Smaug in\\nThe Hobbit\\n(1937). Finally, I will examine some examples of the uncanny vision and language of the dragons of modern children’s literature through the middle-grade reader\\nHow to Train Your Dragon Vol. 1\\nand the picture book\\nHush, Little Dragon\\n. These books serve as purposeful case studies intended to represent recent English-language literature for the youngest to middle-grade readers. Each book was selected out of a pool of potential recent dragon books because they represent clear, but not extraordinary or unusual, examples of tamed and human-like dragons, respectively. I mean to ultimately use these texts to demonstrate that while many commonplace modern dragons have evolved away from their ancestors to good or bad effect, the visual potency and intimacy with language inherited from older dragons remain a potent, if largely invisible, means of creating uncanny dragons in children’s literature. Stein and Blount protest the appearance of increasingly human dragons, but this very doubling has the potential to rescue the awe of dragons as long as they are just different and frightening enough to achieve the uncanny.\\nThe Uncanny Dragon, Then and Now\\nThe dragon’s eyes hold much of its power, as well as its ability to inspire uncanny fear. In Freud’s concept of the uncanny, the eyes are a frequent site of fear in two ways: as a displaced castration complex if the eyes are threatened, and as the evil-eye threatening oneself (231, 240). Colloquially considered windows to the soul, the eyes are also a significant cultural location for human identity. Likewise, the dragon’s powerful eyes are one of its identifying features and greatest assets in its efforts to seize human identity. When discussing the Indo-European name for the dragon, Jonathan Evans says that the Greek root “*drk-” originally means “to see, to watch” and “*drk-on” would mean something like “seeing one” (“As Rare” 23). Evans asserts that accordingly many Indo-European dragons are watchers and guarders responsible for keeping an eye on a treasure of some sort, and many have piercing or unnatural stares to discomfit potential attackers (23). The Greek dragon’s name and identity is based on its power of sight. The “unnatural” stare that Evans mentions also creates an eerie sense of the intelligence behind the dragon’s guardianship, a power and vision comparable if not superior to humanity’s. The human hero is responsible for guarding the people, the dragon for guarding the treasure. Until one defeats the other, they are equally identified as powerful over-seers threatening one another’s guardianship. Traditionally, when a hero faces and defeats a dragon, the slaying extinguishes the dragon’s superior vision. In doing so, the hero establishes himself as the greater power and superior identity as watcher-guardian. This challenge over the hero’s watcher-identity invokes the Freudian evil-eye or blindness as castration, making the dragon’s threat to one’s identity as watcher-guardian uncanny.\\nAlongside the eyes, the dragon’s uncanny powers manifest in its associations with speech. As far as we know, dragons are primarily imaginary creatures that emerged from within the oral and written realms of storytelling.\\n2\\nIn Western literature, they leapt into being as an invention of language and shortly after acquired, within stories, the ability to out-speak humans.\\n3\\nIn creating language-capable monsters proficient with the tools of linguistic creation, poets and bards fashioned in dragons a double for themselves: the dragon as wielder of language and the raw potential for language—including the risk that language could escape human control and become dangerous. In this way dragons stole the human invention that created them and ventured uncomfortably close to humanity through the ability to speak with equal or superior eloquence. While other animals speak in legend and fairy tale, most of these creatures existed before language named them, and their words are simple and communicative. Dragons in contrast could not exist without language, and have a high language skill demonstrated through fondness for riddling talk and a tendency to use it aggressively.\\n4\\nFurthermore, traditional dragons are notoriously evil where regular animals are not. Deirdre Dwen Pitts writes that folklore animals “date from the time when the world was not yet man-oriented and man and animal struggled together against uncontrollable natural forces” (169). These animals are on the humans’ side: “Animals are rarely the antagonists in these tales; enemies are usually undefined monsters, ogres, witches, giants, devils, demons, with only an occasional wolf” (169). Oddly missing from this list are dragons, which are also frequent enemies and shadows of humanity. The dragon is, like the uncanny, that which “ought to have remained secret and hidden but has come to light” (Freud 225). Many of the most terrifying and memorable dragons rely on their use of language to inspire fear and awe due to being distinctly unwelcome doubles for humanity.\\nAlthough the dragon may imitate humanity through its roles as watcher and speaker, its physical properties keep it unfamiliar enough to be uncanny. The dragon’s appearance comes down as inconsistent through European lore, but the medieval dragon is never nice-looking or aesthetically pleasing. This traditional dragon combines frightening and uncomfortable aspects taken from beasts who threaten humanity: snakes, big cats, and birds of prey.\\n5\\nTherefore when this undesirable anti-human claims human identity, the thought becomes inherently unsettling to humans. Having this conglomeration of everything that one finds frightening and uncomfortable nearly become the same as oneself produces the uncanny doubling effect. Furthermore, Freud suggests that the familiar unfamiliar of the uncanny is the result of repressed experiences (241); accordingly many of these old stories imply that the dragon embodies the repressed dark side of the hero.\\nIn the medieval Germanic dragon myths, the dragon watching over a hoard becomes an uncanny double for the hero watching over the people. In\\nBeowulf\\n, the poet uses identical words to describe the roles of Beowulf and the dragon. At different times he calls them both\\naglæcan\\n, meaning “warrior,” and only context distinguishes the hero from the dragon (Lionarons 30). The same phrase\\nhordweard\\nor “hoard-guardian” refers to both. The dragon’s lair is called a\\ndryhtsele\\n, the term used for a human king’s hall (30). These examples of parallel naming reveal the doubled natures of hero and dragon as well as their conflicting positions. They perform the same job, but only one can succeed. In the inevitable conflict, the two guardians are so similar they nearly cancel one another out. Both kill one another; only narrowly does Beowulf come out on top as the successful overseer. By killing the dragon, he proves an effective guardian of his people from the dragon menace, but he also performs the final viewing and therefore possession of the dragon’s treasure. The two concepts are connected, as the poet shows through Beowulf’s insistence upon seeing the treasure before dying. When Wiglaf brings it to him, Beowulf gazes on it and says, “I give thanks / that I behold this treasure here in front of me, / that I have been allowed to leave my people / so well endowed on the day I die” (ln 2795-2798). He believes the treasure he has won could support his people, and therefore what the dragon has been watching over has been converted to a part of Beowulf’s ward. His ability to look on the treasure assures him that he has won the battle of eyes.\\nThe language of the Germanic dragons also doubled them with humans, and in two ways: the way that the dragons were spoken about and the way that they spoke. Aside from how similar words are used in\\nBeowulf\\nto align the hero and the dragon, the Indo-European dragon-slaying myth has its own special verb formula reserved for the epic killing of dragons. In her book on medieval dragons, Lionarons points out that instead of an active verb such as “to slay,” the dragon-slaying verb is self-reflexive and roughly translates “to become slayer to” (6). The action of slaying defines the hero/slayer against the dragon/slain. The way this particular verb functions, Lionarons notes, “suggests a covert similarity between subject and object, hero and dragon” (6). The cosmic dragon-slaying myth and later the legendary hero tale, she explains, worked through one voice silencing the other—the battle is over language since the winner gets to declare himself to be the god/hero and the loser to be the dragon (8). The need for such a battle reveals the uncomfortable similarity between heroes and dragons in the tales of dragon-slayers such as Sigurd, Þiđrek, Beowulf, and Thor. Each hero ultimately defines himself as the hero; it is the narrow margin of success and uncertain hero status that creates the uncanniness.\\nThe dragons also use language to fight for the speaking, dominant role, as can be seen in the verbal battle that occurs at the death of the dragon Fáfnir. In the\\nVolsunga Saga\\nversion, the hero Sigurd kills Fáfnir through a trick; the actual violence is brief. As the dragon slowly dies, it speaks (\\nVolsunga\\n78). Lionarons claims that the conversation is riskier than the attack, for despite Fáfnir’s mortal wounds, he threatens to take the winner’s right as silencer through engaging the Germanic genres of the\\nsenna\\n, death song, and wisdom poetry (69). The\\nsenna\\nis a stylized battle of words accomplished through ritual insults and challenges meant to establish one’s social place. When Fáfnir engages Sigurd in this battle, as Armann Jakobsson puts it, “readers will be prone to an eerie feeling that the dragon is somehow outwitting Sigurđr” (31). This eerie feeling results from a distinctly non-human entity fighting for the human social rank of hero, and doing well. The dragon’s skill at word-play indicates that the non-human may actually be better at the human’s game of language. Fáfnir nearly wins through wisdom poetry that touches on the cosmological and silences the hero. Sigurd, in his efforts to outsmart Fáfnir and find an unanswerable question, asks about the end of the world: “How namest thou the holm whereon Surt and the Æsir mix and mingle in the wa'"
      ]
     },
     "execution_count": 51,
     "metadata": {},
     "output_type": "execute_result"
    }
   ],
   "source": [
    "get_webpage_content.invoke(\"https://journal.finfar.org/articles/dragons-are-tricksy-the-uncanny-dragons-of-childrens-literature/\")"
   ]
  },
  {
   "cell_type": "code",
   "execution_count": 45,
   "id": "abceb64d",
   "metadata": {},
   "outputs": [
    {
     "name": "stdout",
     "output_type": "stream",
     "text": [
      "Just a moment...\n",
      "www.universetoday.com\n",
      "Verifying you are human. This may take a few seconds.\n",
      "www.universetoday.com needs to review the security of your connection before proceeding.\n",
      "Verification successful\n",
      "Waiting for www.universetoday.com to respond...\n",
      "Enable JavaScript and cookies to continue\n",
      "Ray ID:\n",
      "93e9781dbe5e93ad\n",
      "Performance & security by\n",
      "Cloudflare\n"
     ]
    }
   ],
   "source": [
    "result = get_webpage_content.func(\"https://www.universetoday.com/articles/astronomers-watch-a-black-hole-wake-up-in-real-time\")\n",
    "print(result[:10000])  # preview only first 1000 chars\n"
   ]
  },
  {
   "cell_type": "code",
   "execution_count": 46,
   "id": "5bc98853",
   "metadata": {},
   "outputs": [],
   "source": [
    "import asyncio\n",
    "from bs4 import BeautifulSoup\n",
    "from PyPDF2 import PdfReader\n",
    "from io import BytesIO\n",
    "import requests\n",
    "from playwright.async_api import async_playwright\n",
    "from langchain.tools import Tool\n",
    "\n",
    "async def get_webpage_content_async(url: str) -> str:\n",
    "    try:\n",
    "        # Check for PDF\n",
    "        head = requests.head(url, timeout=5)\n",
    "        if url.lower().endswith(\".pdf\") or \"application/pdf\" in head.headers.get(\"Content-Type\", \"\").lower():\n",
    "            response = requests.get(url, timeout=10)\n",
    "            response.raise_for_status()\n",
    "            pdf = PdfReader(BytesIO(response.content))\n",
    "            text = \"\"\n",
    "            for page in pdf.pages:\n",
    "                page_text = page.extract_text()\n",
    "                if page_text:\n",
    "                    text += page_text + \"\\n\"\n",
    "            return text[:20000] or \"No readable text extracted from PDF.\"\n",
    "\n",
    "        # Use Playwright Async\n",
    "        async with async_playwright() as p:\n",
    "            browser = await p.chromium.launch(headless=True)\n",
    "            page = await browser.new_page()\n",
    "            await page.goto(url, timeout=15000)\n",
    "            content = await page.content()\n",
    "            await browser.close()\n",
    "\n",
    "        soup = BeautifulSoup(content, \"html.parser\")\n",
    "        text = soup.get_text(separator=\"\\n\", strip=True)\n",
    "        return text[:20000] or \"No readable text extracted from webpage.\"\n",
    "\n",
    "    except Exception as e:\n",
    "        return f\"Error fetching content: {e}\"\n",
    "\n",
    "# Synchronous wrapper for LangChain Tool\n",
    "def get_webpage_content_sync(url: str) -> str:\n",
    "    try:\n",
    "        return asyncio.run(get_webpage_content_async(url))\n",
    "    except RuntimeError:\n",
    "        # If inside an already running event loop (like Jupyter), fallback using nest_asyncio\n",
    "        import nest_asyncio\n",
    "        nest_asyncio.apply()\n",
    "        return asyncio.get_event_loop().run_until_complete(get_webpage_content_async(url))\n",
    "\n",
    "# LangChain tool\n",
    "get_webpage_content = Tool(\n",
    "    name=\"get_webpage_content\",\n",
    "    func=get_webpage_content_sync,\n",
    "    description=(\n",
    "        \"Use this tool to fetch metadata or links from a webpage or PDF URL. \"\n",
    "        \"Returns the first 20000 characters of webpage or PDF content.\"\n",
    "    )\n",
    ")"
   ]
  },
  {
   "cell_type": "code",
   "execution_count": 47,
   "id": "b0517966",
   "metadata": {},
   "outputs": [
    {
     "data": {
      "text/plain": [
       "'Just a moment...\\nwww.universetoday.com\\nVerifying you are human. This may take a few seconds.\\nwww.universetoday.com needs to review the security of your connection before proceeding.\\nVerification successful\\nWaiting for www.universetoday.com to respond...\\nEnable JavaScript and cookies to continue\\nRay ID:\\n93e97a431eb6f892\\nPerformance & security by\\nCloudflare'"
      ]
     },
     "execution_count": 47,
     "metadata": {},
     "output_type": "execute_result"
    }
   ],
   "source": [
    "get_webpage_content.invoke(\"https://www.universetoday.com/articles/astronomers-watch-a-black-hole-wake-up-in-real-time\")"
   ]
  },
  {
   "cell_type": "code",
   "execution_count": null,
   "id": "8c1ac777",
   "metadata": {},
   "outputs": [],
   "source": []
  },
  {
   "cell_type": "code",
   "execution_count": null,
   "id": "ad509a44",
   "metadata": {},
   "outputs": [],
   "source": []
  },
  {
   "cell_type": "code",
   "execution_count": 30,
   "id": "59ed2528",
   "metadata": {},
   "outputs": [],
   "source": [
    "import requests\n",
    "from bs4 import BeautifulSoup\n",
    "from PyPDF2 import PdfReader\n",
    "from io import BytesIO\n",
    "\n",
    "# --- Webpage content extraction --- #\n",
    "def get_webpage_content(url: str) -> str:\n",
    "    try:\n",
    "        headers = {\n",
    "            \"User-Agent\": (\n",
    "                \"Mozilla/5.0 (Windows NT 10.0; Win64; x64) \"\n",
    "                \"AppleWebKit/537.36 (KHTML, like Gecko) \"\n",
    "                \"Chrome/113.0.0.0 Safari/537.36\"\n",
    "            )\n",
    "        }\n",
    "\n",
    "        response = requests.get(url, headers=headers, timeout=10)\n",
    "        response.raise_for_status()\n",
    "\n",
    "        content_type = response.headers.get(\"Content-Type\", \"\").lower()\n",
    "\n",
    "        # Check if it's a PDF\n",
    "        if \"application/pdf\" in content_type or url.lower().endswith(\".pdf\"):\n",
    "            pdf = PdfReader(BytesIO(response.content))\n",
    "            text = \"\"\n",
    "            for page in pdf.pages:\n",
    "                text += page.extract_text() or \"\"\n",
    "            return text[:20000]  # Truncate for safety\n",
    "\n",
    "        # Else assume it's HTML\n",
    "        soup = BeautifulSoup(response.text, \"html.parser\")\n",
    "        text = soup.get_text(separator=\"\\n\", strip=True)\n",
    "        return text[:20000]\n",
    "\n",
    "    except Exception as e:\n",
    "        return f\"Error fetching content: {e}\"\n",
    "    \n",
    "\n",
    "# def extract_web_content(url: str) -> str:\n",
    "#     return asyncio.run(get_webpage_content_async(url))\n",
    "\n",
    "\n",
    "\n",
    "get_webpage_content = Tool(\n",
    "    name=\"get_webpage_content\",\n",
    "    func=get_webpage_content,\n",
    "    description=(\n",
    "        \"Use this tool to fetch metadata or links from a webpage or PDF URL. \"\n",
    "        \"Returns the first 5000 characters of webpage or PDF content. \"\n",
    "        # \"DO NOT use this tool to load or analyze large files (CSV, PDF, Excel, etc.). \"\n",
    "        # \"Instead, if the page contains a downloadable file link, extract just the file URL and pass it to the Python tool.\"\n",
    "    )\n",
    ")"
   ]
  },
  {
   "cell_type": "code",
   "execution_count": 29,
   "id": "85ad7da1",
   "metadata": {},
   "outputs": [
    {
     "data": {
      "text/plain": [
       "'Error fetching content: 403 Client Error: Forbidden for url: https://www.universetoday.com/articles/astronomers-watch-a-black-hole-wake-up-in-real-time'"
      ]
     },
     "execution_count": 29,
     "metadata": {},
     "output_type": "execute_result"
    }
   ],
   "source": [
    "get_webpage_content.invoke(\"https://www.universetoday.com/articles/astronomers-watch-a-black-hole-wake-up-in-real-time\")"
   ]
  },
  {
   "cell_type": "code",
   "execution_count": 33,
   "id": "3067fe43",
   "metadata": {},
   "outputs": [],
   "source": [
    "chat=ChatOpenAI()"
   ]
  },
  {
   "cell_type": "code",
   "execution_count": 36,
   "id": "3fee8fa4",
   "metadata": {},
   "outputs": [
    {
     "data": {
      "text/plain": [
       "'The capital of India is New Delhi.'"
      ]
     },
     "execution_count": 36,
     "metadata": {},
     "output_type": "execute_result"
    }
   ],
   "source": [
    "chat.invoke(\"What is the capital of India?\")\n",
    "\n",
    "parser=StrOutputParser()\n",
    "\n",
    "parser.invoke(chat.invoke(\"What is the capital of India?\"))\n",
    "\n"
   ]
  },
  {
   "cell_type": "code",
   "execution_count": 17,
   "id": "589c3994",
   "metadata": {},
   "outputs": [
    {
     "data": {
      "text/plain": [
       "Tool(name='DuckDuckGo Search', description=\"Search the web using DuckDuckGo and return a list of relevant results. Useful for answering general knowledge questions or finding recent news.The output is a list of dictionaries, each containing 'title', 'snippet', and 'link' keys.The 'link' key contains the URL of the result, which can be used to fetch more information.\", func=<bound method BaseTool.run of DuckDuckGoSearchResults(api_wrapper=DuckDuckGoSearchAPIWrapper(region='wt-wt', safesearch='moderate', time='y', max_results=5, backend='auto', source='text'), output_format='list')>)"
      ]
     },
     "execution_count": 17,
     "metadata": {},
     "output_type": "execute_result"
    }
   ],
   "source": [
    "from toolkit import tool_list\n",
    "\n",
    "tool_list[10]"
   ]
  },
  {
   "cell_type": "code",
   "execution_count": null,
   "id": "142df14d",
   "metadata": {},
   "outputs": [],
   "source": []
  },
  {
   "cell_type": "code",
   "execution_count": 19,
   "id": "8de9d678",
   "metadata": {},
   "outputs": [],
   "source": [
    "from langchain_community.tools import WikipediaQueryRun\n",
    "from langchain_community.utilities import WikipediaAPIWrapper"
   ]
  },
  {
   "cell_type": "code",
   "execution_count": null,
   "id": "df8f55be",
   "metadata": {},
   "outputs": [],
   "source": [
    "wikipedia = WikipediaQueryRun(api_wrapper=WikipediaAPIWrapper())\n",
    "\n",
    "wikipedia_search=Tool(\n",
    "    name=\"wikipedia_search\",\n",
    "    func=wikipedia.run,\n",
    "    description=(\n",
    "        \"search argument should be at least 3 words long. \"\n",
    "        \"Fetches summaries from Wikipedia. Useful for general knowledge or factual questions about entities, events, concepts, etc.\"\n",
    "    \"Prioritze this wikipedia search tool over web search and get web content for general knowledge questions. \"\n",
    "    )\n",
    "\n",
    ")\n"
   ]
  },
  {
   "cell_type": "code",
   "execution_count": 26,
   "id": "0266cfed",
   "metadata": {},
   "outputs": [
    {
     "data": {
      "text/plain": [
       "'No good Wikipedia Search Result was found'"
      ]
     },
     "execution_count": 26,
     "metadata": {},
     "output_type": "execute_result"
    }
   ],
   "source": [
    "wikipedia_search.invoke(\"mily Midkiff June 2014 article Hreidmar's sons journal dragon depiction\")"
   ]
  },
  {
   "cell_type": "code",
   "execution_count": 3,
   "id": "1b0eb890",
   "metadata": {},
   "outputs": [],
   "source": [
    "# Google search tool\n",
    "search = GoogleSerperAPIWrapper()\n",
    "\n",
    "# Need to explicitly convert search function to a tool\n",
    "google_search_tool = Tool(\n",
    "    name=\"Google_Search\",\n",
    "    func=lambda q: search.results(q)['organic'][:3], # Limit to top 3 results\n",
    "    description=\"Search web using Google and get structured results that includes links, which can be used to fetch more information.\",\n",
    ")"
   ]
  },
  {
   "cell_type": "code",
   "execution_count": 4,
   "id": "7132873d",
   "metadata": {},
   "outputs": [
    {
     "data": {
      "text/plain": [
       "[{'title': \"“Dragons are Tricksy”: The Uncanny Dragons of Children's Literature |\",\n",
       "  'link': 'https://journal.finfar.org/articles/dragons-are-tricksy-the-uncanny-dragons-of-childrens-literature/',\n",
       "  'snippet': \"This article argues that children's literature dragons have been not been entirely softened and satirized.\",\n",
       "  'attributes': {'Missing': \"Hreidmar's | Show results with:Hreidmar's\"},\n",
       "  'position': 1},\n",
       " {'title': '[PDF] Adaptive In-conversation Team Building for Language Model Agents',\n",
       "  'link': 'https://arxiv.org/pdf/2405.19425?',\n",
       "  'snippet': \"Identify the journal named for one of Hreidmar's sons that guarded his house. 2. Locate Emily Midkiff's June 2014 article in that journal. 3 ...\",\n",
       "  'date': 'Mar 2, 2025',\n",
       "  'position': 2},\n",
       " {'title': 'm-ric/agents_small_benchmark · Datasets at Hugging Face',\n",
       "  'link': 'https://huggingface.co/datasets/m-ric/agents_small_benchmark',\n",
       "  'snippet': \"In Emily Midkiff's June 2014 article in a journal named for the one of Hreidmar's sons that guarded his house, what word was quoted from two different ...\",\n",
       "  'position': 3}]"
      ]
     },
     "execution_count": 4,
     "metadata": {},
     "output_type": "execute_result"
    }
   ],
   "source": [
    "google_search_tool.invoke(\"Emily Midkiff June 2014 article Hreidmar's sons journal dragon depiction\")"
   ]
  },
  {
   "cell_type": "code",
   "execution_count": 48,
   "id": "fcaf00b0",
   "metadata": {},
   "outputs": [],
   "source": [
    "os.getenv(\"SPACE_ID\")"
   ]
  },
  {
   "cell_type": "code",
   "execution_count": 49,
   "id": "f646ce0a",
   "metadata": {},
   "outputs": [
    {
     "name": "stdout",
     "output_type": "stream",
     "text": [
      "None\n"
     ]
    }
   ],
   "source": [
    "print(os.getenv(\"SPACE_ID\"))"
   ]
  },
  {
   "cell_type": "code",
   "execution_count": 53,
   "id": "2bcf455f",
   "metadata": {},
   "outputs": [],
   "source": [
    "from toolkit import tool_list"
   ]
  },
  {
   "cell_type": "code",
   "execution_count": 59,
   "id": "5776c07f",
   "metadata": {},
   "outputs": [
    {
     "name": "stdout",
     "output_type": "stream",
     "text": [
      "[StructuredTool(name='multiply', description='Multiplies two numbers.\\n    Args:\\n        a (float): the first number\\n        b (float): the second number', args_schema=<class 'langchain_core.utils.pydantic.multiply'>, func=<function multiply at 0x115fae9e0>), StructuredTool(name='add', description='Adds two numbers.\\n    Args:\\n        a (float): the first number\\n        b (float): the second number', args_schema=<class 'langchain_core.utils.pydantic.add'>, func=<function add at 0x116157eb0>), StructuredTool(name='subtract', description='Subtracts two numbers.\\n    Args:\\n        a (float): the first number\\n        b (float): the second number', args_schema=<class 'langchain_core.utils.pydantic.subtract'>, func=<function subtract at 0x116157a30>), StructuredTool(name='divide', description='Divides two numbers.\\n    Args:\\n        a (float): the first float number\\n        b (float): the second float number', args_schema=<class 'langchain_core.utils.pydantic.divide'>, func=<function divide at 0x11617c040>), StructuredTool(name='modulus', description='Get the modulus of two numbers.\\n    Args:\\n        a (int): the first number\\n        b (int): the second number', args_schema=<class 'langchain_core.utils.pydantic.modulus'>, func=<function modulus at 0x11617c820>), StructuredTool(name='power', description='Get the power of two numbers.\\n    Args:\\n        a (float): the first number\\n        b (float): the second number', args_schema=<class 'langchain_core.utils.pydantic.power'>, func=<function power at 0x11617cca0>), StructuredTool(name='largest', description='Get the largest number in a list.\\n    Args:\\n        a (list[float]): the list of numbers', args_schema=<class 'langchain_core.utils.pydantic.largest'>, func=<function largest at 0x11617c9d0>), StructuredTool(name='smallest', description='Get the smallest number in a list.\\n    Args:\\n        a (list[float]): the list of numbers', args_schema=<class 'langchain_core.utils.pydantic.smallest'>, func=<function smallest at 0x1161545e0>), StructuredTool(name='average', description='Get the average of a list of numbers.\\n    Args:\\n        a (list[float]): the list of numbers', args_schema=<class 'langchain_core.utils.pydantic.average'>, func=<function average at 0x116157d00>), Tool(name='DuckDuckGo Search', description='Search the web using DuckDuckGo and return a list of relevant results. Useful for answering general knowledge questions or finding recent news.', func=<bound method BaseTool.run of DuckDuckGoSearchRun(api_wrapper=DuckDuckGoSearchAPIWrapper(region='wt-wt', safesearch='moderate', time='y', max_results=5, backend='auto', source='text'))>), Tool(name='DuckDuckGo Search', description=\"Search the web using DuckDuckGo and return a list of relevant results. Useful for answering general knowledge questions or finding recent news.The output is a list of dictionaries, each containing 'title', 'snippet', and 'link' keys.The 'link' key contains the URL of the result, which can be used to fetch more information.\", func=<bound method BaseTool.run of DuckDuckGoSearchResults(api_wrapper=DuckDuckGoSearchAPIWrapper(region='wt-wt', safesearch='moderate', time='y', max_results=5, backend='auto', source='text'), output_format='list')>), Tool(name='Google Search', description='Search Google and get structured results including links.', func=<function <lambda> at 0x116157400>), Tool(name='get_webpage_content', description='Fetches and returns main text from a webpage or a PDF URL.', func=<function get_webpage_content at 0x116157e20>), Tool(name='python_repl', description='A Python shell. Use this to execute python commands. Input should be a valid python command. If you want to see the output of a value, you should print it out with `print(...)`.', func=<bound method PythonREPL.run of PythonREPL(globals={}, locals={})>)]\n"
     ]
    }
   ],
   "source": [
    "print(tool_list[:])"
   ]
  },
  {
   "cell_type": "code",
   "execution_count": 57,
   "id": "34726d91",
   "metadata": {},
   "outputs": [
    {
     "name": "stdout",
     "output_type": "stream",
     "text": [
      "<generator object <genexpr> at 0x124c4b0d0>\n"
     ]
    }
   ],
   "source": [
    "print(i for i in tool_list)"
   ]
  },
  {
   "cell_type": "code",
   "execution_count": 53,
   "id": "8eb23a0a",
   "metadata": {},
   "outputs": [],
   "source": [
    "from youtube_transcript_api import YouTubeTranscriptApi\n",
    "from pytube import extract\n",
    "\n",
    "\n",
    "@tool\n",
    "def get_youtube_transcript(page_url: str) -> str:\n",
    "    \"\"\"Get the transcript of a YouTube video\n",
    "    Args:\n",
    "        page_url (str): YouTube URL of the video\n",
    "    \"\"\"\n",
    "    try:\n",
    "        # get video ID from URL\n",
    "        video_id = extract.video_id(page_url)\n",
    "\n",
    "        # get transcript\n",
    "        ytt_api = YouTubeTranscriptApi()\n",
    "        transcript = ytt_api.fetch(video_id)\n",
    "\n",
    "        # keep only text\n",
    "        txt = '\\n'.join([s.text for s in transcript.snippets])\n",
    "        return txt[:20000]\n",
    "    except Exception as e:\n",
    "        return f\"get_youtube_transcript failed: {e}\""
   ]
  },
  {
   "cell_type": "code",
   "execution_count": 57,
   "id": "a0ef9054",
   "metadata": {},
   "outputs": [
    {
     "data": {
      "text/plain": [
       "\"Wow this coffee's great I was just\\nthinking that\\nyeah is that cinnamon chicory\\ntea oak\\n[Music]\\nisn't that hot\\nextremely\""
      ]
     },
     "execution_count": 57,
     "metadata": {},
     "output_type": "execute_result"
    }
   ],
   "source": [
    "get_youtube_transcript.invoke('https://www.youtube.com/watch?v=1htKBjuUWec')\n",
    "\n"
   ]
  },
  {
   "cell_type": "code",
   "execution_count": null,
   "id": "e091447a",
   "metadata": {},
   "outputs": [
    {
     "data": {
      "text/plain": [
       "'This dynamic workshop aims to provide up-to-date information on pharmacological approaches, issues, and treatment in the geriatric population to assist in preventing medication-related problems, appropriately and effectively managing medications and compliance, period. The concept of polypharmacy, parentheses, taking multiple types of drugs, parentheses, will also be discussed, comma, as this is a common issue that can impact adverse side effects in the geriatric population, period. Participants will leave with the knowledge and considerations of common drug interaction and how to minimize effects that limit function, period. Summit Professional Education is approved provider of continuing education, period. This course is offered for six units, period. This course contains content classified under both the domain of occupational therapy and professional issues, period.'"
      ]
     },
     "execution_count": 107,
     "metadata": {},
     "output_type": "execute_result"
    }
   ],
   "source": [
    "from openai import OpenAI\n",
    "\n",
    "@tool\n",
    "def automatic_speech_recognition(file_url: str, file_extension: str) -> str:\n",
    "    \"\"\"Transcribe an audio file to text\n",
    "    Args:\n",
    "        file_url (str): the URL to the audio file\n",
    "        file_extension (str): the file extension, e.g. mp3\n",
    "    \"\"\"\n",
    "    try:\n",
    "        \n",
    "        response = requests.get(file_url)\n",
    "        response.raise_for_status()\n",
    "        # write to disk\n",
    "        file_extension = file_extension.replace('.','')\n",
    "        with open(f'tmp.{file_extension}', 'wb') as file:\n",
    "            file.write(response.content)\n",
    "\n",
    "        audio_file = open(f'tmp.{file_extension}', \"rb\")\n",
    "        client = OpenAI()\n",
    "        transcription = client.audio.transcriptions.create(\n",
    "                model=\"whisper-1\",\n",
    "                file=audio_file\n",
    "            )\n",
    "        \n",
    "        return transcription.text\n",
    "\n",
    "        # return 'sample'\n",
    "\n",
    "    except Exception as e:\n",
    "        return f\"automatic_speech_recognition failed: {e}\"\n",
    "    \n",
    "\n",
    "automatic_speech_recognition.invoke({'file_url':\"https://raw.githubusercontent.com/prateekralhan/Speech2Text-for-Long-Audio-Files/master/audio_wav/genevieve.wav\",'file_extension': '.wav'})\n"
   ]
  },
  {
   "cell_type": "code",
   "execution_count": null,
   "id": "636d268b",
   "metadata": {},
   "outputs": [],
   "source": []
  },
  {
   "cell_type": "code",
   "execution_count": null,
   "id": "aade07fa",
   "metadata": {},
   "outputs": [],
   "source": []
  }
 ],
 "metadata": {
  "kernelspec": {
   "display_name": "agentic",
   "language": "python",
   "name": "python3"
  },
  "language_info": {
   "codemirror_mode": {
    "name": "ipython",
    "version": 3
   },
   "file_extension": ".py",
   "mimetype": "text/x-python",
   "name": "python",
   "nbconvert_exporter": "python",
   "pygments_lexer": "ipython3",
   "version": "3.10.16"
  }
 },
 "nbformat": 4,
 "nbformat_minor": 5
}
