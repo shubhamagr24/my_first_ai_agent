{
 "cells": [
  {
   "cell_type": "code",
   "execution_count": 1,
   "id": "c06c61b8",
   "metadata": {},
   "outputs": [
    {
     "data": {
      "text/plain": [
       "True"
      ]
     },
     "execution_count": 1,
     "metadata": {},
     "output_type": "execute_result"
    }
   ],
   "source": [
    "#basic imports\n",
    "from langchain_core.tools import tool,Tool\n",
    "from langchain_core.prompts import PromptTemplate\n",
    "from langchain_core.output_parsers import StrOutputParser\n",
    "from dotenv import load_dotenv\n",
    "\n",
    "import os\n",
    "\n",
    "# special imports\n",
    "from langchain_community.tools import DuckDuckGoSearchRun ###simple search tool\n",
    "from langchain_community.tools import DuckDuckGoSearchResults ### returns snipeet,title,link\n",
    "from langchain_community.utilities import GoogleSerperAPIWrapper\n",
    "from bs4 import BeautifulSoup\n",
    "from PyPDF2 import PdfReader\n",
    "from io import BytesIO\n",
    "import requests\n",
    "from langchain_experimental.utilities import PythonREPL\n",
    "\n",
    "\n",
    "load_dotenv() "
   ]
  },
  {
   "cell_type": "code",
   "execution_count": null,
   "id": "781b4ced",
   "metadata": {},
   "outputs": [],
   "source": [
    "# --- Basic operations --- #\n",
    "\n",
    "@tool\n",
    "def multiply(a: float, b: float) -> float:\n",
    "    \"\"\"Multiplies two numbers.\n",
    "    Args:\n",
    "        a (float): the first number\n",
    "        b (float): the second number\n",
    "    \"\"\"\n",
    "    return a * b\n",
    "\n",
    "\n",
    "@tool\n",
    "def add(a: float, b: float) -> float:\n",
    "    \"\"\"Adds two numbers.\n",
    "    Args:\n",
    "        a (float): the first number\n",
    "        b (float): the second number\n",
    "    \"\"\"\n",
    "    return a + b\n",
    "\n",
    "\n",
    "@tool\n",
    "def subtract(a: float, b: float) -> int:\n",
    "    \"\"\"Subtracts two numbers.\n",
    "    Args:\n",
    "        a (float): the first number\n",
    "        b (float): the second number\n",
    "    \"\"\"\n",
    "    return a - b\n",
    "\n",
    "\n",
    "@tool\n",
    "def divide(a: float, b: float) -> float:\n",
    "    \"\"\"Divides two numbers.\n",
    "    Args:\n",
    "        a (float): the first float number\n",
    "        b (float): the second float number\n",
    "    \"\"\"\n",
    "    if b == 0:\n",
    "        raise ValueError(\"Cannot divided by zero.\")\n",
    "    return a / b\n",
    "\n",
    "\n",
    "@tool\n",
    "def modulus(a: int, b: int) -> int:\n",
    "    \"\"\"Get the modulus of two numbers.\n",
    "    Args:\n",
    "        a (int): the first number\n",
    "        b (int): the second number\n",
    "    \"\"\"\n",
    "    return a % b\n",
    "\n",
    "\n",
    "@tool\n",
    "def power(a: float, b: float) -> float:\n",
    "    \"\"\"Get the power of two numbers.\n",
    "    Args:\n",
    "        a (float): the first number\n",
    "        b (float): the second number\n",
    "    \"\"\"\n",
    "    return a**b\n",
    "\n",
    "\n",
    "@tool\n",
    "def largest(a:list[float]) -> float;\n",
    "    \"\"\"Get the largest number in a list.\n",
    "    Args:\n",
    "        a (list[float]): the list of numbers\n",
    "    \"\"\"\n",
    "    return max(a)\n",
    "\n",
    "@tool\n",
    "def smallest(a:list[float]) -> float;\n",
    "    \"\"\"Get the smallest number in a list.\n",
    "    Args:\n",
    "        a (list[float]): the list of numbers\n",
    "    \"\"\"\n",
    "    return min(a)\n",
    "@tool\n",
    "def average(a:list[float]) -> float;\n",
    "    \"\"\"Get the average of a list of numbers.\n",
    "    Args:\n",
    "        a (list[float]): the list of numbers\n",
    "    \"\"\"\n",
    "    return sum(a)/len(a)\n",
    "\n",
    "\n"
   ]
  },
  {
   "cell_type": "code",
   "execution_count": 2,
   "id": "a71cd97e",
   "metadata": {},
   "outputs": [],
   "source": [
    "# --- Advanced operations --- #\n",
    "\n",
    "# duckduckgo search tool\n",
    "simple_search = DuckDuckGoSearchRun()\n",
    "\n",
    "\n",
    "# duckduckgo search tool returns snipeet,title,link\n",
    "search = DuckDuckGoSearchResults(output_format=\"list\")\n",
    "\n",
    "\n",
    "# google search tool \n",
    "search = GoogleSerperAPIWrapper()\n",
    "# Need to explicitly convert search function to a tool\n",
    "google_search = Tool(\n",
    "    name=\"Google Search\",\n",
    "    func=lambda q: str(search.results(q)),  # returns list of dicts with 'link'\n",
    "    description=\"Search Google and get structured results including links.\",\n",
    ")\n",
    "\n",
    "\n",
    "#python interpreter\n",
    "python_repl = PythonREPL()\n",
    "repl_tool = Tool(\n",
    "    name=\"python_repl\",\n",
    "    description=\"A Python shell. Use this to execute python commands. Input should be a valid python command. If you want to see the output of a value, you should print it out with `print(...)`.\",\n",
    "    func=python_repl.run,\n",
    ")"
   ]
  },
  {
   "cell_type": "code",
   "execution_count": 3,
   "id": "e00bab60",
   "metadata": {},
   "outputs": [
    {
     "name": "stderr",
     "output_type": "stream",
     "text": [
      "Python REPL can execute arbitrary code. Use with caution.\n"
     ]
    },
    {
     "data": {
      "text/plain": [
       "'2\\n'"
      ]
     },
     "execution_count": 3,
     "metadata": {},
     "output_type": "execute_result"
    }
   ],
   "source": [
    "repl_tool.invoke(\"print(1+1)\")"
   ]
  },
  {
   "cell_type": "code",
   "execution_count": null,
   "id": "1be3b763",
   "metadata": {},
   "outputs": [],
   "source": [
    "\n",
    "\n",
    "def get_webpage_content(url: str) -> str:\n",
    "    try:\n",
    "        response = requests.get(url, timeout=10)\n",
    "        response.raise_for_status()\n",
    "\n",
    "        content_type = response.headers.get(\"Content-Type\", \"\").lower()\n",
    "\n",
    "        # Check if it's a PDF\n",
    "        if \"application/pdf\" in content_type or url.lower().endswith(\".pdf\"):\n",
    "            pdf = PdfReader(BytesIO(response.content))\n",
    "            text = \"\"\n",
    "            for page in pdf.pages:\n",
    "                text += page.extract_text() or \"\"\n",
    "            return text[:2000]  # Truncate for safety\n",
    "\n",
    "        # Else assume it's HTML\n",
    "        soup = BeautifulSoup(response.text, \"html.parser\")\n",
    "        text = soup.get_text(separator=\"\\n\", strip=True)\n",
    "        return text[:2000]\n",
    "\n",
    "    except Exception as e:\n",
    "        return f\"Error fetching content: {e}\"\n",
    "    \n",
    "webpage_tool = Tool(\n",
    "    name=\"get_webpage_content\",\n",
    "    func=get_webpage_content,\n",
    "    description=\"Fetches and returns main text from a webpage or a PDF URL.\"\n",
    ")"
   ]
  },
  {
   "cell_type": "code",
   "execution_count": null,
   "id": "75b1f3af",
   "metadata": {},
   "outputs": [],
   "source": []
  },
  {
   "cell_type": "code",
   "execution_count": null,
   "id": "59ed2528",
   "metadata": {},
   "outputs": [],
   "source": []
  },
  {
   "cell_type": "code",
   "execution_count": 33,
   "id": "3067fe43",
   "metadata": {},
   "outputs": [],
   "source": [
    "chat=ChatOpenAI()"
   ]
  },
  {
   "cell_type": "code",
   "execution_count": 36,
   "id": "3fee8fa4",
   "metadata": {},
   "outputs": [
    {
     "data": {
      "text/plain": [
       "'The capital of India is New Delhi.'"
      ]
     },
     "execution_count": 36,
     "metadata": {},
     "output_type": "execute_result"
    }
   ],
   "source": [
    "chat.invoke(\"What is the capital of India?\")\n",
    "\n",
    "parser=StrOutputParser()\n",
    "\n",
    "parser.invoke(chat.invoke(\"What is the capital of India?\"))\n",
    "\n"
   ]
  },
  {
   "cell_type": "code",
   "execution_count": 17,
   "id": "589c3994",
   "metadata": {},
   "outputs": [
    {
     "data": {
      "text/plain": [
       "Tool(name='DuckDuckGo Search', description=\"Search the web using DuckDuckGo and return a list of relevant results. Useful for answering general knowledge questions or finding recent news.The output is a list of dictionaries, each containing 'title', 'snippet', and 'link' keys.The 'link' key contains the URL of the result, which can be used to fetch more information.\", func=<bound method BaseTool.run of DuckDuckGoSearchResults(api_wrapper=DuckDuckGoSearchAPIWrapper(region='wt-wt', safesearch='moderate', time='y', max_results=5, backend='auto', source='text'), output_format='list')>)"
      ]
     },
     "execution_count": 17,
     "metadata": {},
     "output_type": "execute_result"
    }
   ],
   "source": [
    "from toolkit import tool_list\n",
    "\n",
    "tool_list[10]"
   ]
  },
  {
   "cell_type": "code",
   "execution_count": null,
   "id": "142df14d",
   "metadata": {},
   "outputs": [],
   "source": []
  },
  {
   "cell_type": "code",
   "execution_count": 19,
   "id": "8de9d678",
   "metadata": {},
   "outputs": [],
   "source": [
    "from langchain_community.tools import WikipediaQueryRun\n",
    "from langchain_community.utilities import WikipediaAPIWrapper"
   ]
  },
  {
   "cell_type": "code",
   "execution_count": null,
   "id": "df8f55be",
   "metadata": {},
   "outputs": [],
   "source": [
    "wikipedia = WikipediaQueryRun(api_wrapper=WikipediaAPIWrapper())\n",
    "\n",
    "wikipedia_search=Tool(\n",
    "    name=\"wikipedia_search\",\n",
    "    func=wikipedia.run,\n",
    "    description=(\n",
    "        \"search argument should be at least 3 words long. \"\n",
    "        \"Fetches summaries from Wikipedia. Useful for general knowledge or factual questions about entities, events, concepts, etc.\"\n",
    "    \"Prioritze this wikipedia search tool over web search and get web content for general knowledge questions. \"\n",
    "    )\n",
    "\n",
    ")\n"
   ]
  },
  {
   "cell_type": "code",
   "execution_count": 26,
   "id": "0266cfed",
   "metadata": {},
   "outputs": [
    {
     "data": {
      "text/plain": [
       "'No good Wikipedia Search Result was found'"
      ]
     },
     "execution_count": 26,
     "metadata": {},
     "output_type": "execute_result"
    }
   ],
   "source": [
    "wikipedia_search.invoke(\"mily Midkiff June 2014 article Hreidmar's sons journal dragon depiction\")"
   ]
  },
  {
   "cell_type": "code",
   "execution_count": 46,
   "id": "1b0eb890",
   "metadata": {},
   "outputs": [],
   "source": [
    "# Google search tool\n",
    "search = GoogleSerperAPIWrapper()\n",
    "\n",
    "# Need to explicitly convert search function to a tool\n",
    "google_search_tool = Tool(\n",
    "    name=\"Google_Search\",\n",
    "    func=lambda q: search.results(q)['organic'], # Limit to top 3 results\n",
    "    description=\"Search web using Google and get structured results that includes links, which can be used to fetch more information.\",\n",
    ")"
   ]
  },
  {
   "cell_type": "code",
   "execution_count": null,
   "id": "7132873d",
   "metadata": {},
   "outputs": [
    {
     "data": {
      "text/plain": [
       "[{'title': '[PDF] Adaptive In-conversation Team Building for Language Model Agents',\n",
       "  'link': 'https://arxiv.org/pdf/2405.19425?',\n",
       "  'snippet': \"Identify the journal named for one of Hreidmar's sons that guarded his house. 2. Locate Emily Midkiff's June 2014 article in that journal. 3 ...\",\n",
       "  'date': 'Mar 2, 2025',\n",
       "  'attributes': {'Missing': 'mily | Show results with:mily'},\n",
       "  'position': 1},\n",
       " {'title': \"“Dragons are Tricksy”: The Uncanny Dragons of Children's Literature |\",\n",
       "  'link': 'https://journal.finfar.org/articles/dragons-are-tricksy-the-uncanny-dragons-of-childrens-literature/',\n",
       "  'snippet': \"This article argues that children's literature dragons have been not been entirely softened and satirized.\",\n",
       "  'attributes': {'Missing': \"Hreidmar's | Show results with:Hreidmar's\"},\n",
       "  'position': 2},\n",
       " {'title': 'm-ric/agents_small_benchmark · Datasets at Hugging Face',\n",
       "  'link': 'https://huggingface.co/datasets/m-ric/agents_small_benchmark',\n",
       "  'snippet': \"In Emily Midkiff's June 2014 article in a journal named for the one of Hreidmar's sons that guarded his house, what word was quoted from two different ...\",\n",
       "  'attributes': {'Missing': 'mily | Show results with:mily'},\n",
       "  'position': 3},\n",
       " {'title': 'Kevin355/Who_and_When · Datasets at Hugging Face',\n",
       "  'link': 'https://huggingface.co/datasets/Kevin355/Who_and_When',\n",
       "  'snippet': \"In Emily Midkiff's June 2014 article in a journal named for the one of Hreidmar's sons that guarded his house, what word was quoted from two ...\",\n",
       "  'attributes': {'Missing': 'mily | Show results with:mily'},\n",
       "  'position': 4}]"
      ]
     },
     "execution_count": 47,
     "metadata": {},
     "output_type": "execute_result"
    }
   ],
   "source": [
    "google_search_tool.invoke(\"Emily Midkiff June 2014 article Hreidmar's sons journal dragon depiction\")"
   ]
  },
  {
   "cell_type": "code",
   "execution_count": 48,
   "id": "fcaf00b0",
   "metadata": {},
   "outputs": [],
   "source": [
    "os.getenv(\"SPACE_ID\")"
   ]
  },
  {
   "cell_type": "code",
   "execution_count": 49,
   "id": "f646ce0a",
   "metadata": {},
   "outputs": [
    {
     "name": "stdout",
     "output_type": "stream",
     "text": [
      "None\n"
     ]
    }
   ],
   "source": [
    "print(os.getenv(\"SPACE_ID\"))"
   ]
  },
  {
   "cell_type": "code",
   "execution_count": 53,
   "id": "2bcf455f",
   "metadata": {},
   "outputs": [],
   "source": [
    "from toolkit import tool_list"
   ]
  },
  {
   "cell_type": "code",
   "execution_count": 59,
   "id": "5776c07f",
   "metadata": {},
   "outputs": [
    {
     "name": "stdout",
     "output_type": "stream",
     "text": [
      "[StructuredTool(name='multiply', description='Multiplies two numbers.\\n    Args:\\n        a (float): the first number\\n        b (float): the second number', args_schema=<class 'langchain_core.utils.pydantic.multiply'>, func=<function multiply at 0x115fae9e0>), StructuredTool(name='add', description='Adds two numbers.\\n    Args:\\n        a (float): the first number\\n        b (float): the second number', args_schema=<class 'langchain_core.utils.pydantic.add'>, func=<function add at 0x116157eb0>), StructuredTool(name='subtract', description='Subtracts two numbers.\\n    Args:\\n        a (float): the first number\\n        b (float): the second number', args_schema=<class 'langchain_core.utils.pydantic.subtract'>, func=<function subtract at 0x116157a30>), StructuredTool(name='divide', description='Divides two numbers.\\n    Args:\\n        a (float): the first float number\\n        b (float): the second float number', args_schema=<class 'langchain_core.utils.pydantic.divide'>, func=<function divide at 0x11617c040>), StructuredTool(name='modulus', description='Get the modulus of two numbers.\\n    Args:\\n        a (int): the first number\\n        b (int): the second number', args_schema=<class 'langchain_core.utils.pydantic.modulus'>, func=<function modulus at 0x11617c820>), StructuredTool(name='power', description='Get the power of two numbers.\\n    Args:\\n        a (float): the first number\\n        b (float): the second number', args_schema=<class 'langchain_core.utils.pydantic.power'>, func=<function power at 0x11617cca0>), StructuredTool(name='largest', description='Get the largest number in a list.\\n    Args:\\n        a (list[float]): the list of numbers', args_schema=<class 'langchain_core.utils.pydantic.largest'>, func=<function largest at 0x11617c9d0>), StructuredTool(name='smallest', description='Get the smallest number in a list.\\n    Args:\\n        a (list[float]): the list of numbers', args_schema=<class 'langchain_core.utils.pydantic.smallest'>, func=<function smallest at 0x1161545e0>), StructuredTool(name='average', description='Get the average of a list of numbers.\\n    Args:\\n        a (list[float]): the list of numbers', args_schema=<class 'langchain_core.utils.pydantic.average'>, func=<function average at 0x116157d00>), Tool(name='DuckDuckGo Search', description='Search the web using DuckDuckGo and return a list of relevant results. Useful for answering general knowledge questions or finding recent news.', func=<bound method BaseTool.run of DuckDuckGoSearchRun(api_wrapper=DuckDuckGoSearchAPIWrapper(region='wt-wt', safesearch='moderate', time='y', max_results=5, backend='auto', source='text'))>), Tool(name='DuckDuckGo Search', description=\"Search the web using DuckDuckGo and return a list of relevant results. Useful for answering general knowledge questions or finding recent news.The output is a list of dictionaries, each containing 'title', 'snippet', and 'link' keys.The 'link' key contains the URL of the result, which can be used to fetch more information.\", func=<bound method BaseTool.run of DuckDuckGoSearchResults(api_wrapper=DuckDuckGoSearchAPIWrapper(region='wt-wt', safesearch='moderate', time='y', max_results=5, backend='auto', source='text'), output_format='list')>), Tool(name='Google Search', description='Search Google and get structured results including links.', func=<function <lambda> at 0x116157400>), Tool(name='get_webpage_content', description='Fetches and returns main text from a webpage or a PDF URL.', func=<function get_webpage_content at 0x116157e20>), Tool(name='python_repl', description='A Python shell. Use this to execute python commands. Input should be a valid python command. If you want to see the output of a value, you should print it out with `print(...)`.', func=<bound method PythonREPL.run of PythonREPL(globals={}, locals={})>)]\n"
     ]
    }
   ],
   "source": [
    "print(tool_list[:])"
   ]
  },
  {
   "cell_type": "code",
   "execution_count": 57,
   "id": "34726d91",
   "metadata": {},
   "outputs": [
    {
     "name": "stdout",
     "output_type": "stream",
     "text": [
      "<generator object <genexpr> at 0x124c4b0d0>\n"
     ]
    }
   ],
   "source": [
    "print(i for i in tool_list)"
   ]
  },
  {
   "cell_type": "code",
   "execution_count": 60,
   "id": "8eb23a0a",
   "metadata": {},
   "outputs": [
    {
     "ename": "ModuleNotFoundError",
     "evalue": "No module named 'pytube'",
     "output_type": "error",
     "traceback": [
      "\u001b[0;31m---------------------------------------------------------------------------\u001b[0m",
      "\u001b[0;31mModuleNotFoundError\u001b[0m                       Traceback (most recent call last)",
      "Cell \u001b[0;32mIn[60], line 1\u001b[0m\n\u001b[0;32m----> 1\u001b[0m \u001b[38;5;28;01mfrom\u001b[39;00m\u001b[38;5;250m \u001b[39m\u001b[38;5;21;01mpytube\u001b[39;00m\u001b[38;5;250m \u001b[39m\u001b[38;5;28;01mimport\u001b[39;00m extract\n",
      "\u001b[0;31mModuleNotFoundError\u001b[0m: No module named 'pytube'"
     ]
    }
   ],
   "source": [
    "from pytube import extract"
   ]
  },
  {
   "cell_type": "code",
   "execution_count": null,
   "id": "a0ef9054",
   "metadata": {},
   "outputs": [],
   "source": []
  }
 ],
 "metadata": {
  "kernelspec": {
   "display_name": "agentic",
   "language": "python",
   "name": "python3"
  },
  "language_info": {
   "codemirror_mode": {
    "name": "ipython",
    "version": 3
   },
   "file_extension": ".py",
   "mimetype": "text/x-python",
   "name": "python",
   "nbconvert_exporter": "python",
   "pygments_lexer": "ipython3",
   "version": "3.10.16"
  }
 },
 "nbformat": 4,
 "nbformat_minor": 5
}
